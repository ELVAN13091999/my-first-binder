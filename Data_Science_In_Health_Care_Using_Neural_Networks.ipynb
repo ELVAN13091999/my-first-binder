{
  "nbformat": 4,
  "nbformat_minor": 0,
  "metadata": {
    "colab": {
      "name": "Untitled0.ipynb",
      "provenance": [],
      "include_colab_link": true
    },
    "kernelspec": {
      "name": "python3",
      "display_name": "Python 3"
    },
    "language_info": {
      "name": "python"
    }
  },
  "cells": [
    {
      "cell_type": "markdown",
      "metadata": {
        "id": "view-in-github",
        "colab_type": "text"
      },
      "source": [
        "<a href=\"https://colab.research.google.com/github/ELVAN13091999/my-first-binder/blob/main/Data_Science_In_Health_Care_Using_Neural_Networks.ipynb\" target=\"_parent\"><img src=\"https://colab.research.google.com/assets/colab-badge.svg\" alt=\"Open In Colab\"/></a>"
      ]
    },
    {
      "cell_type": "markdown",
      "metadata": {
        "id": "enuyXzb1ugsL"
      },
      "source": [
        "# Spreading Covid19 in Indonesia by Advanced prognostication using Neural Networks   \n",
        "Personal Project By Elvan Vensiando\n",
        "\n",
        "Special thanks to IBM Corporation and MIT for providing free online courses in cognitiveclass.ai\n",
        "\n",
        "Special thanks to Hannah Ritchie, Edouard Mathieu, Lucas Rodés-Guirao, Cameron Appel, Charlie Giattino, Esteban Ortiz-Ospina, Joe Hasell, Bobbie Macdonald, Diana Beltekian and Max Roser (2020) - \"Coronavirus Pandemic (COVID-19)\". Published online at OurWorldInData.org. Retrieved from: 'https://ourworldindata.org/coronavirus' [Online Resource]"
      ]
    },
    {
      "cell_type": "markdown",
      "metadata": {
        "id": "Fpl7qnR1x8za"
      },
      "source": [
        "-> Import Library, Download Data and Preliminary Analysis"
      ]
    },
    {
      "cell_type": "code",
      "metadata": {
        "id": "KqqGUTrhyI8G"
      },
      "source": [
        "import pandas as pd\n",
        "import numpy as np"
      ],
      "execution_count": 1,
      "outputs": []
    },
    {
      "cell_type": "code",
      "metadata": {
        "id": "cvSXBTskyQDp",
        "colab": {
          "base_uri": "https://localhost:8080/",
          "height": 391
        },
        "outputId": "335061e8-eaa3-4912-c52c-113503ef107a"
      },
      "source": [
        "#firstly, upload data to file\n",
        "covid_word = pd.read_csv('owid-covid-data.csv')\n",
        "covid_word"
      ],
      "execution_count": 2,
      "outputs": [
        {
          "output_type": "error",
          "ename": "FileNotFoundError",
          "evalue": "ignored",
          "traceback": [
            "\u001b[0;31m---------------------------------------------------------------------------\u001b[0m",
            "\u001b[0;31mFileNotFoundError\u001b[0m                         Traceback (most recent call last)",
            "\u001b[0;32m<ipython-input-2-c256c13218d6>\u001b[0m in \u001b[0;36m<module>\u001b[0;34m()\u001b[0m\n\u001b[0;32m----> 1\u001b[0;31m \u001b[0mcovid_word\u001b[0m \u001b[0;34m=\u001b[0m \u001b[0mpd\u001b[0m\u001b[0;34m.\u001b[0m\u001b[0mread_csv\u001b[0m\u001b[0;34m(\u001b[0m\u001b[0;34m'owid-covid-data.csv'\u001b[0m\u001b[0;34m)\u001b[0m\u001b[0;34m\u001b[0m\u001b[0;34m\u001b[0m\u001b[0m\n\u001b[0m\u001b[1;32m      2\u001b[0m \u001b[0mcovid_word\u001b[0m\u001b[0;34m\u001b[0m\u001b[0;34m\u001b[0m\u001b[0m\n",
            "\u001b[0;32m/usr/local/lib/python3.7/dist-packages/pandas/io/parsers.py\u001b[0m in \u001b[0;36mread_csv\u001b[0;34m(filepath_or_buffer, sep, delimiter, header, names, index_col, usecols, squeeze, prefix, mangle_dupe_cols, dtype, engine, converters, true_values, false_values, skipinitialspace, skiprows, skipfooter, nrows, na_values, keep_default_na, na_filter, verbose, skip_blank_lines, parse_dates, infer_datetime_format, keep_date_col, date_parser, dayfirst, cache_dates, iterator, chunksize, compression, thousands, decimal, lineterminator, quotechar, quoting, doublequote, escapechar, comment, encoding, dialect, error_bad_lines, warn_bad_lines, delim_whitespace, low_memory, memory_map, float_precision)\u001b[0m\n\u001b[1;32m    686\u001b[0m     )\n\u001b[1;32m    687\u001b[0m \u001b[0;34m\u001b[0m\u001b[0m\n\u001b[0;32m--> 688\u001b[0;31m     \u001b[0;32mreturn\u001b[0m \u001b[0m_read\u001b[0m\u001b[0;34m(\u001b[0m\u001b[0mfilepath_or_buffer\u001b[0m\u001b[0;34m,\u001b[0m \u001b[0mkwds\u001b[0m\u001b[0;34m)\u001b[0m\u001b[0;34m\u001b[0m\u001b[0;34m\u001b[0m\u001b[0m\n\u001b[0m\u001b[1;32m    689\u001b[0m \u001b[0;34m\u001b[0m\u001b[0m\n\u001b[1;32m    690\u001b[0m \u001b[0;34m\u001b[0m\u001b[0m\n",
            "\u001b[0;32m/usr/local/lib/python3.7/dist-packages/pandas/io/parsers.py\u001b[0m in \u001b[0;36m_read\u001b[0;34m(filepath_or_buffer, kwds)\u001b[0m\n\u001b[1;32m    452\u001b[0m \u001b[0;34m\u001b[0m\u001b[0m\n\u001b[1;32m    453\u001b[0m     \u001b[0;31m# Create the parser.\u001b[0m\u001b[0;34m\u001b[0m\u001b[0;34m\u001b[0m\u001b[0;34m\u001b[0m\u001b[0m\n\u001b[0;32m--> 454\u001b[0;31m     \u001b[0mparser\u001b[0m \u001b[0;34m=\u001b[0m \u001b[0mTextFileReader\u001b[0m\u001b[0;34m(\u001b[0m\u001b[0mfp_or_buf\u001b[0m\u001b[0;34m,\u001b[0m \u001b[0;34m**\u001b[0m\u001b[0mkwds\u001b[0m\u001b[0;34m)\u001b[0m\u001b[0;34m\u001b[0m\u001b[0;34m\u001b[0m\u001b[0m\n\u001b[0m\u001b[1;32m    455\u001b[0m \u001b[0;34m\u001b[0m\u001b[0m\n\u001b[1;32m    456\u001b[0m     \u001b[0;32mif\u001b[0m \u001b[0mchunksize\u001b[0m \u001b[0;32mor\u001b[0m \u001b[0miterator\u001b[0m\u001b[0;34m:\u001b[0m\u001b[0;34m\u001b[0m\u001b[0;34m\u001b[0m\u001b[0m\n",
            "\u001b[0;32m/usr/local/lib/python3.7/dist-packages/pandas/io/parsers.py\u001b[0m in \u001b[0;36m__init__\u001b[0;34m(self, f, engine, **kwds)\u001b[0m\n\u001b[1;32m    946\u001b[0m             \u001b[0mself\u001b[0m\u001b[0;34m.\u001b[0m\u001b[0moptions\u001b[0m\u001b[0;34m[\u001b[0m\u001b[0;34m\"has_index_names\"\u001b[0m\u001b[0;34m]\u001b[0m \u001b[0;34m=\u001b[0m \u001b[0mkwds\u001b[0m\u001b[0;34m[\u001b[0m\u001b[0;34m\"has_index_names\"\u001b[0m\u001b[0;34m]\u001b[0m\u001b[0;34m\u001b[0m\u001b[0;34m\u001b[0m\u001b[0m\n\u001b[1;32m    947\u001b[0m \u001b[0;34m\u001b[0m\u001b[0m\n\u001b[0;32m--> 948\u001b[0;31m         \u001b[0mself\u001b[0m\u001b[0;34m.\u001b[0m\u001b[0m_make_engine\u001b[0m\u001b[0;34m(\u001b[0m\u001b[0mself\u001b[0m\u001b[0;34m.\u001b[0m\u001b[0mengine\u001b[0m\u001b[0;34m)\u001b[0m\u001b[0;34m\u001b[0m\u001b[0;34m\u001b[0m\u001b[0m\n\u001b[0m\u001b[1;32m    949\u001b[0m \u001b[0;34m\u001b[0m\u001b[0m\n\u001b[1;32m    950\u001b[0m     \u001b[0;32mdef\u001b[0m \u001b[0mclose\u001b[0m\u001b[0;34m(\u001b[0m\u001b[0mself\u001b[0m\u001b[0;34m)\u001b[0m\u001b[0;34m:\u001b[0m\u001b[0;34m\u001b[0m\u001b[0;34m\u001b[0m\u001b[0m\n",
            "\u001b[0;32m/usr/local/lib/python3.7/dist-packages/pandas/io/parsers.py\u001b[0m in \u001b[0;36m_make_engine\u001b[0;34m(self, engine)\u001b[0m\n\u001b[1;32m   1178\u001b[0m     \u001b[0;32mdef\u001b[0m \u001b[0m_make_engine\u001b[0m\u001b[0;34m(\u001b[0m\u001b[0mself\u001b[0m\u001b[0;34m,\u001b[0m \u001b[0mengine\u001b[0m\u001b[0;34m=\u001b[0m\u001b[0;34m\"c\"\u001b[0m\u001b[0;34m)\u001b[0m\u001b[0;34m:\u001b[0m\u001b[0;34m\u001b[0m\u001b[0;34m\u001b[0m\u001b[0m\n\u001b[1;32m   1179\u001b[0m         \u001b[0;32mif\u001b[0m \u001b[0mengine\u001b[0m \u001b[0;34m==\u001b[0m \u001b[0;34m\"c\"\u001b[0m\u001b[0;34m:\u001b[0m\u001b[0;34m\u001b[0m\u001b[0;34m\u001b[0m\u001b[0m\n\u001b[0;32m-> 1180\u001b[0;31m             \u001b[0mself\u001b[0m\u001b[0;34m.\u001b[0m\u001b[0m_engine\u001b[0m \u001b[0;34m=\u001b[0m \u001b[0mCParserWrapper\u001b[0m\u001b[0;34m(\u001b[0m\u001b[0mself\u001b[0m\u001b[0;34m.\u001b[0m\u001b[0mf\u001b[0m\u001b[0;34m,\u001b[0m \u001b[0;34m**\u001b[0m\u001b[0mself\u001b[0m\u001b[0;34m.\u001b[0m\u001b[0moptions\u001b[0m\u001b[0;34m)\u001b[0m\u001b[0;34m\u001b[0m\u001b[0;34m\u001b[0m\u001b[0m\n\u001b[0m\u001b[1;32m   1181\u001b[0m         \u001b[0;32melse\u001b[0m\u001b[0;34m:\u001b[0m\u001b[0;34m\u001b[0m\u001b[0;34m\u001b[0m\u001b[0m\n\u001b[1;32m   1182\u001b[0m             \u001b[0;32mif\u001b[0m \u001b[0mengine\u001b[0m \u001b[0;34m==\u001b[0m \u001b[0;34m\"python\"\u001b[0m\u001b[0;34m:\u001b[0m\u001b[0;34m\u001b[0m\u001b[0;34m\u001b[0m\u001b[0m\n",
            "\u001b[0;32m/usr/local/lib/python3.7/dist-packages/pandas/io/parsers.py\u001b[0m in \u001b[0;36m__init__\u001b[0;34m(self, src, **kwds)\u001b[0m\n\u001b[1;32m   2008\u001b[0m         \u001b[0mkwds\u001b[0m\u001b[0;34m[\u001b[0m\u001b[0;34m\"usecols\"\u001b[0m\u001b[0;34m]\u001b[0m \u001b[0;34m=\u001b[0m \u001b[0mself\u001b[0m\u001b[0;34m.\u001b[0m\u001b[0musecols\u001b[0m\u001b[0;34m\u001b[0m\u001b[0;34m\u001b[0m\u001b[0m\n\u001b[1;32m   2009\u001b[0m \u001b[0;34m\u001b[0m\u001b[0m\n\u001b[0;32m-> 2010\u001b[0;31m         \u001b[0mself\u001b[0m\u001b[0;34m.\u001b[0m\u001b[0m_reader\u001b[0m \u001b[0;34m=\u001b[0m \u001b[0mparsers\u001b[0m\u001b[0;34m.\u001b[0m\u001b[0mTextReader\u001b[0m\u001b[0;34m(\u001b[0m\u001b[0msrc\u001b[0m\u001b[0;34m,\u001b[0m \u001b[0;34m**\u001b[0m\u001b[0mkwds\u001b[0m\u001b[0;34m)\u001b[0m\u001b[0;34m\u001b[0m\u001b[0;34m\u001b[0m\u001b[0m\n\u001b[0m\u001b[1;32m   2011\u001b[0m         \u001b[0mself\u001b[0m\u001b[0;34m.\u001b[0m\u001b[0munnamed_cols\u001b[0m \u001b[0;34m=\u001b[0m \u001b[0mself\u001b[0m\u001b[0;34m.\u001b[0m\u001b[0m_reader\u001b[0m\u001b[0;34m.\u001b[0m\u001b[0munnamed_cols\u001b[0m\u001b[0;34m\u001b[0m\u001b[0;34m\u001b[0m\u001b[0m\n\u001b[1;32m   2012\u001b[0m \u001b[0;34m\u001b[0m\u001b[0m\n",
            "\u001b[0;32mpandas/_libs/parsers.pyx\u001b[0m in \u001b[0;36mpandas._libs.parsers.TextReader.__cinit__\u001b[0;34m()\u001b[0m\n",
            "\u001b[0;32mpandas/_libs/parsers.pyx\u001b[0m in \u001b[0;36mpandas._libs.parsers.TextReader._setup_parser_source\u001b[0;34m()\u001b[0m\n",
            "\u001b[0;31mFileNotFoundError\u001b[0m: [Errno 2] No such file or directory: 'owid-covid-data.csv'"
          ]
        }
      ]
    },
    {
      "cell_type": "markdown",
      "metadata": {
        "id": "LjOECbXvCRwr"
      },
      "source": [
        "-> Let's recognized types of data correctly"
      ]
    },
    {
      "cell_type": "code",
      "metadata": {
        "id": "zzEa3ZGJCVoE"
      },
      "source": [
        "covid_word.info()"
      ],
      "execution_count": null,
      "outputs": []
    },
    {
      "cell_type": "markdown",
      "metadata": {
        "id": "3dcjtKqjC5yj"
      },
      "source": [
        "As we can see the first 4th columns and test_units are object, Let's investigate them"
      ]
    },
    {
      "cell_type": "code",
      "metadata": {
        "id": "H0LBC5CbDJTD"
      },
      "source": [
        "fields = ['iso_code', 'continent', 'location', 'tests_units']\n",
        "covid_word[fields]"
      ],
      "execution_count": null,
      "outputs": []
    },
    {
      "cell_type": "markdown",
      "metadata": {
        "id": "9lAhJLX2D1k5"
      },
      "source": [
        "-> Let's investigate detail of the fields data"
      ]
    },
    {
      "cell_type": "code",
      "metadata": {
        "id": "AFvVv-bvEM87"
      },
      "source": [
        "covid_word[fields]"
      ],
      "execution_count": null,
      "outputs": []
    },
    {
      "cell_type": "code",
      "metadata": {
        "id": "LvsekCczFV5d"
      },
      "source": [
        "fields = ['iso_code', 'continent', 'location', 'tests_units']\n",
        "covid_word[fields] = covid_word[fields].astype('category')\n",
        "covid_word.loc[:, 'date'] = pd.to_datetime(covid_word['date'])\n",
        "covid_word[fields].describe()"
      ],
      "execution_count": null,
      "outputs": []
    },
    {
      "cell_type": "markdown",
      "metadata": {
        "id": "W0OCUhwQG666"
      },
      "source": [
        "assigned fields to categorical fields because of many repetitions"
      ]
    },
    {
      "cell_type": "markdown",
      "metadata": {
        "id": "E8pcNO5uKAe0"
      },
      "source": [
        "-> Let's show a list of countries"
      ]
    },
    {
      "cell_type": "code",
      "metadata": {
        "id": "qy-hzAJIKD4C"
      },
      "source": [
        "covid_word['location'].cat.categories"
      ],
      "execution_count": null,
      "outputs": []
    },
    {
      "cell_type": "markdown",
      "metadata": {
        "id": "kYzh3f8hKpR6"
      },
      "source": [
        "-> Let's investigate the dynamics of new cases of COVID-19 for a separate country. We will use Indonesia for saving models and further forecast. Let's use a pandas filter to do this."
      ]
    },
    {
      "cell_type": "code",
      "metadata": {
        "id": "dfs-CVWMKxo8"
      },
      "source": [
        "covid_word.index = covid_word['date']\n",
        "\n",
        "c_covid = covid_word[covid_word['location'] == \"Indonesia\"]\n",
        "c_covid"
      ],
      "execution_count": null,
      "outputs": []
    },
    {
      "cell_type": "markdown",
      "metadata": {
        "id": "KFwV2hbvMBA_"
      },
      "source": [
        "-> \n",
        "Let's choose the fields 'new_cases', 'new_cases_smoothed' for forecasting. First of all, we should visualize this data."
      ]
    },
    {
      "cell_type": "code",
      "metadata": {
        "id": "EHPv3JHSMDAx"
      },
      "source": [
        "import matplotlib.pyplot as plt\n",
        "fields = ['new_cases', 'new_cases_smoothed']\n",
        "c_covid[fields].plot()\n",
        "plt.show()"
      ],
      "execution_count": null,
      "outputs": []
    },
    {
      "cell_type": "markdown",
      "metadata": {
        "id": "8HijPAA2NSnc"
      },
      "source": [
        "As we can see, there are large fluctuations in the new cases plot. Let's try to make a forecast for these waves. First of all, we should delete missing data using pandas.DataFrame.dropna()"
      ]
    },
    {
      "cell_type": "code",
      "metadata": {
        "id": "hRimyxbUN_YO"
      },
      "source": [
        "c_covid = c_covid[fields].dropna()\n",
        "c_covid"
      ],
      "execution_count": null,
      "outputs": []
    },
    {
      "cell_type": "markdown",
      "metadata": {
        "id": "Cr48afiGOkmQ"
      },
      "source": [
        "-> If we want to make a forecast of time series, the only assumption that can be made - the data for today depends on the previous days values. To check for dependencies, it is necessary to perform a correlation analysis between them. This requires:\n",
        " \n",
        "1.   duplicating the time series of data and moving it\n",
        "2.   vertically down for a certain number of days (lag)\n",
        "3.   deleting the missing data at the beginning and end (they are formed by vertical shift (pandas.DataFrame.shift())\n",
        "4.   calculating the correlation coefficient between the obtained series.\n",
        "\n",
        "\n",
        "\n",
        "Since this operation should be performed for different values of the lag, it is convenient to create a separate function:"
      ]
    },
    {
      "cell_type": "code",
      "metadata": {
        "id": "yn_lLK7xPBxP"
      },
      "source": [
        "def lag_correlation_ts(y, x, lag):\n",
        "    \"\"\"\n",
        "    Lag correlation for 2 DateSeries\n",
        "    :param y: fixed\n",
        "    :param x: shifted\n",
        "    :param lag: lag for shifting\n",
        "    :return: DataFrame of lags correlation coefficients\n",
        "    \"\"\"\n",
        "    r = [0] * (lag + 1)\n",
        "    y = y.copy()\n",
        "    x = x.copy()\n",
        "    y.name = \"y\"\n",
        "    x.name = \"x\"\n",
        "\n",
        "    for i in range(0, lag + 1):\n",
        "        ds = y.copy().to_frame()\n",
        "        ds = ds.join(x.shift(i), how='outer')\n",
        "        r[i] = ds.corr().values[0][1]\n",
        "    r = pd.DataFrame(r)\n",
        "    r.index.names = ['Lag']\n",
        "    r.columns = ['Correlation']\n",
        "    return r"
      ],
      "execution_count": null,
      "outputs": []
    },
    {
      "cell_type": "markdown",
      "metadata": {
        "id": "7JZtzcuWPPpz"
      },
      "source": [
        "-> Let's create a target DataSet."
      ]
    },
    {
      "cell_type": "code",
      "metadata": {
        "id": "81ejNMTLPYrF"
      },
      "source": [
        "y_dataset = c_covid['new_cases']\n",
        "y_dataset"
      ],
      "execution_count": null,
      "outputs": []
    },
    {
      "cell_type": "markdown",
      "metadata": {
        "id": "zy8bNgxPPh8q"
      },
      "source": [
        "-> Let's test a 30-day lag."
      ]
    },
    {
      "cell_type": "code",
      "metadata": {
        "id": "eZBRDXnhPjcm"
      },
      "source": [
        "pd.options.display.float_format = '{:,.4f}'.format\n",
        "l = pd.DataFrame(lag_correlation_ts(y_dataset, y_dataset, 30)) #For time series we should use y_Dataset like input and output\n",
        "print(l)\n",
        "l.plot()"
      ],
      "execution_count": null,
      "outputs": []
    },
    {
      "cell_type": "markdown",
      "metadata": {
        "id": "_v1Dj3rxRPhL"
      },
      "source": [
        "As we can see, there are some waves observed in the lag plot. You can see from the table that there is a peak for every seventh day. (Maximum lags are: 7, 14, 21, etc. days). This is due to the weekly cycle."
      ]
    },
    {
      "cell_type": "markdown",
      "metadata": {
        "id": "mn-QsTcWRmM0"
      },
      "source": [
        "Any forecast model can be shown as a black box of input-target type. The target should be the data of the original time series, and the input should be the values for the previous days."
      ]
    },
    {
      "cell_type": "markdown",
      "metadata": {
        "id": "fT33VzP0SRuv"
      },
      "source": [
        "![forecast_model_ilustration.PNG](data:image/png;base64,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)"
      ]
    },
    {
      "cell_type": "markdown",
      "metadata": {
        "id": "LFfedRlxSUz8"
      },
      "source": [
        "-> To automate this process, let's make a universal function for time series transformation to create this DataSet."
      ]
    },
    {
      "cell_type": "code",
      "metadata": {
        "id": "tCQpO-EMSeOE"
      },
      "source": [
        "def series_to_supervised(in_data, tar_data, n_in=1, dropnan=True, target_dep=False):\n",
        "    \"\"\"\n",
        "    Transformation into a training sample taking into account the lag\n",
        "     : param in_data: Input fields\n",
        "     : param tar_data: Output field (single)\n",
        "     : param n_in: Lag shift\n",
        "     : param dropnan: Do destroy empty lines\n",
        "     : param target_dep: Whether to take into account the lag of the input field. If taken into account, the input will start with a lag 1\n",
        "     : return: Training sample. The last field is the source\n",
        "    \"\"\"\n",
        "\n",
        "    n_vars = in_data.shape[1]\n",
        "    cols, names = list(), list()\n",
        "\n",
        "    if target_dep:\n",
        "        i_start = 1\n",
        "    else:\n",
        "        i_start = 0\n",
        "    for i in range(i_start, n_in + 1):\n",
        "        cols.append(in_data.shift(i))\n",
        "        names += [('%s(t-%d)' % (in_data.columns[j], i)) for j in range(n_vars)]\n",
        "\n",
        "    if target_dep:\n",
        "        for i in range(n_in, -1, -1):\n",
        "            cols.append(tar_data.shift(i))\n",
        "            names += [('%s(t-%d)' % (tar_data.name, i))]\n",
        "    else:\n",
        "        # put it all together\n",
        "        cols.append(tar_data)\n",
        "        names.append(tar_data.name)\n",
        "    agg = pd.concat(cols, axis=1)\n",
        "    agg.columns = names\n",
        "\n",
        "    # drop rows with NaN values\n",
        "    if dropnan:\n",
        "        agg.dropna(inplace=True)\n",
        "\n",
        "    return agg"
      ],
      "execution_count": null,
      "outputs": []
    },
    {
      "cell_type": "markdown",
      "metadata": {
        "id": "s1ARNmEySocX"
      },
      "source": [
        "As mentioned above, when forecasting time series, the input and output fields are the same, only shifted by the lag."
      ]
    },
    {
      "cell_type": "code",
      "metadata": {
        "id": "5n76XlZtSru2"
      },
      "source": [
        "dataset = series_to_supervised(pd.DataFrame(y_dataset), y_dataset, 14) ##target data based previous days\n",
        "dataset"
      ],
      "execution_count": null,
      "outputs": []
    },
    {
      "cell_type": "markdown",
      "metadata": {
        "id": "6T8nlMO1S7o5"
      },
      "source": [
        "-> As we can see, the first and last columns contain the same target data. Now we should create input (X) and output (Y) DataSets for forecasting models."
      ]
    },
    {
      "cell_type": "code",
      "metadata": {
        "id": "sUBBcLiYTKe0"
      },
      "source": [
        "col = dataset.columns\n",
        "X, Y = dataset[col[1:-1]], dataset[col[-1]]\n",
        "print(\"Input: \", X.columns)\n",
        "print(\"Target:\", Y.name)"
      ],
      "execution_count": null,
      "outputs": []
    },
    {
      "cell_type": "markdown",
      "metadata": {
        "id": "hjHK0W4aTdnA"
      },
      "source": [
        "-> After that, we should normalize all the data. To do this, the sklearn.preprocessing.MinMaxScaler module should be used. It allows us to normalize fit_transform() and convert back all the data easily: fit_transform()."
      ]
    },
    {
      "cell_type": "code",
      "metadata": {
        "id": "51EWI1IFTfJF"
      },
      "source": [
        "from sklearn.preprocessing import MinMaxScaler\n",
        "scaler_x = MinMaxScaler(feature_range=(0, 1))\n",
        "scaler_y = MinMaxScaler(feature_range=(0, 1))\n",
        "\n",
        "scaled_x = scaler_x.fit_transform(X)\n",
        "scaled_y = scaler_y.fit_transform(Y.values.reshape(-1, 1))"
      ],
      "execution_count": null,
      "outputs": []
    },
    {
      "cell_type": "markdown",
      "metadata": {
        "id": "y0lpYoR1T61J"
      },
      "source": [
        "After that, we are going to form training and test DataSets using sklearn.model_selection.train_test_split(). We will make them at the ratio of 70/30. Without shuffling. It means, that test samples are located in the end of X and Y DataSets.\n",
        "\n",
        "Input normalized DataSets: X_train, X_test\n",
        "\n",
        "Target normalized DataSets: y_train, y_test"
      ]
    },
    {
      "cell_type": "code",
      "metadata": {
        "id": "R8vaRqg9T78L"
      },
      "source": [
        "from sklearn.model_selection import train_test_split\n",
        "X_train, X_test, y_train, y_test = train_test_split(scaled_x, scaled_y, test_size=0.3, shuffle=False)"
      ],
      "execution_count": null,
      "outputs": []
    },
    {
      "cell_type": "markdown",
      "metadata": {
        "id": "s6wSYCMcUImu"
      },
      "source": [
        "All the data is normalized now. However, in order to compare to results, we need real scale data of the training and test DataSet:"
      ]
    },
    {
      "cell_type": "code",
      "metadata": {
        "id": "gjItvpB0UJ8s"
      },
      "source": [
        "res_train = scaler_y.inverse_transform(y_train).flatten()\n",
        "res_test = scaler_y.inverse_transform(y_test).flatten()"
      ],
      "execution_count": null,
      "outputs": []
    },
    {
      "cell_type": "markdown",
      "metadata": {
        "id": "Va3VRRP5VTOR"
      },
      "source": [
        "Target real scale DataSets: res_train, res_test."
      ]
    },
    {
      "cell_type": "markdown",
      "metadata": {
        "id": "LYJcjaCmVbc4"
      },
      "source": [
        "# Three type of models. A Linear regression, a Multilayer Neural Network with Backpropagation and a Long Short-Term Memory Neural Network. "
      ]
    },
    {
      "cell_type": "markdown",
      "metadata": {
        "id": "S9OYTCA4W3sp"
      },
      "source": [
        "-> Let's create a LinearRegression():"
      ]
    },
    {
      "cell_type": "code",
      "metadata": {
        "id": "t_4y2g-SVniW"
      },
      "source": [
        "from sklearn.linear_model import LinearRegression\n",
        "regressor = LinearRegression()"
      ],
      "execution_count": null,
      "outputs": []
    },
    {
      "cell_type": "markdown",
      "metadata": {
        "id": "30AdZbHxV6E8"
      },
      "source": [
        "After that, our model should be fitted on the training DataSet. Regardless of the model type, the function fit() is used to do this."
      ]
    },
    {
      "cell_type": "code",
      "metadata": {
        "id": "-0qPDi40V7gi"
      },
      "source": [
        "regressor.fit(X_train, y_train)"
      ],
      "execution_count": null,
      "outputs": []
    },
    {
      "cell_type": "markdown",
      "metadata": {
        "id": "B4qpXkpkWHJG"
      },
      "source": [
        "-> We can test it on the test DataSet and use it for prognostication."
      ]
    },
    {
      "cell_type": "code",
      "metadata": {
        "id": "hRJ_UIQNWMN2"
      },
      "source": [
        "y_pred_test_ln = regressor.predict(X_test)\n",
        "y_pred_test_ln = scaler_y.inverse_transform(y_pred_test_ln).flatten()"
      ],
      "execution_count": null,
      "outputs": []
    },
    {
      "cell_type": "markdown",
      "metadata": {
        "id": "x4_qOtcHWTf-"
      },
      "source": [
        "-> Let's analyze the results accuracy using sklearn.metrics."
      ]
    },
    {
      "cell_type": "code",
      "metadata": {
        "id": "B4j9yi8lWWSp"
      },
      "source": [
        "from sklearn import metrics\n",
        "print(\"Correlation train\", regressor.score(X_train, y_train))\n",
        "print(\"Correlation test\", regressor.score(X_test, y_test))\n",
        "print('Mean Absolute Error:', metrics.mean_absolute_error(y_test, y_pred_test_ln))\n",
        "print('Mean Squared Error:', metrics.mean_squared_error(y_test, y_pred_test_ln))\n",
        "print('Root Mean Squared Error:', np.sqrt(metrics.mean_squared_error(y_test, y_pred_test_ln)))"
      ],
      "execution_count": null,
      "outputs": []
    },
    {
      "cell_type": "markdown",
      "metadata": {
        "id": "S8ChUUWiW9rO"
      },
      "source": [
        "The modern approach to the establishment of complex functional dependencies is the use of neural networks. A classical neural network is a multilayer neural network with back propagation.\n",
        "\n",
        "To do this, we will use the keras framework. First of all, we should create a Neural Network model as a separate function.\n",
        "\n",
        "A neural network is a sequence of layers. The function Sequential() is used to create a network.\n",
        "\n",
        "Let's create a network that consists of 2 hidden layers. Each of which consists of 100 neurons. keras.layers.Dense().\n",
        "\n",
        "To avoid retraining problems, we will use additional layers keras.layers.Dropout().\n",
        "\n",
        "The output layer will consist of one neuron, since we have only one value at the output.\n",
        "\n",
        "The model should be compiled for fitting and predicting: keras.Model.compile()."
      ]
    },
    {
      "cell_type": "markdown",
      "metadata": {
        "id": "w-KB88XEXNLw"
      },
      "source": [
        "-> Let's make a Multilayer Neural Network with Backpropagation "
      ]
    },
    {
      "cell_type": "code",
      "metadata": {
        "id": "qS_HHgOkXQ6N"
      },
      "source": [
        "def BP_model(X):\n",
        "    \"\"\"\n",
        "    Multilayer neural network with back propagation.\n",
        "    :param X: Input DataSet\n",
        "    :return: keras NN model\n",
        "    \"\"\"\n",
        "    # create model\n",
        "    model = Sequential() \n",
        "    model.add(Dense(100, input_dim=X.shape[1], kernel_initializer='normal', activation='relu'))\n",
        "    model.add(Dropout(0.2))\n",
        "    model.add(Dense(100, kernel_initializer='normal', activation='relu'))\n",
        "    model.add(Dropout(0.2))\n",
        "    model.add(Dense(1, kernel_initializer='normal'))\n",
        "    # Compile model\n",
        "    model.compile(loss='mean_squared_error', optimizer='adam')\n",
        "    return model"
      ],
      "execution_count": null,
      "outputs": []
    },
    {
      "cell_type": "markdown",
      "metadata": {
        "id": "P1ICWJ88XiBd"
      },
      "source": [
        "Once the model function is built, it is necessary to create a neural network directly and specify the learning parameters: keras.wrappers.scikit_learn.KerasRegressor(). Also we should define the number of fitting epoch and batch size."
      ]
    },
    {
      "cell_type": "code",
      "metadata": {
        "id": "9HXEFs3zXjAI"
      },
      "source": [
        "from keras.wrappers.scikit_learn import KerasRegressor\n",
        "from keras.models import Sequential\n",
        "from keras.layers import Dense\n",
        "from keras.layers import Dropout\n",
        "epochs = 1000\n",
        "\n",
        "batch_size=int(y_train.shape[0]*.1)\n",
        "\n",
        "estimator = KerasRegressor(build_fn=BP_model, X=X_train, epochs=epochs, batch_size=batch_size, verbose=1)"
      ],
      "execution_count": null,
      "outputs": []
    },
    {
      "cell_type": "markdown",
      "metadata": {
        "id": "_J935k1WXpTH"
      },
      "source": [
        "Now, let’s train our model for 1000 epochs. It should be noted that the fitting process is very slow. Therefore, we saved our fitted model to a file. To save time, we will upload the fitted model. If we like, we can leave the parameter fitting on True to refit the model. If you like, we can leave the parameter fitting_save on True to resave the model."
      ]
    },
    {
      "cell_type": "code",
      "metadata": {
        "id": "jefibeogXvDm"
      },
      "source": [
        "fitting = True\n",
        "fitting_save = True\n",
        "\n",
        "import pickle\n",
        "\n",
        "if fitting:\n",
        "    history=estimator.fit(X_train,y_train, validation_data=(X_test,y_test)) # Fitting model\n",
        "    if fitting_save:\n",
        "        # Save model\n",
        "        estimator.model.save('BP_saved_model.h5')\n",
        "        print(\"Saved model to disk\")\n",
        "        with open('history.pickle', 'wb') as f:\n",
        "            pickle.dump(history.history, f)\n",
        "# load model \n",
        "from keras.models import load_model\n",
        "\n",
        "# Instantiate the model as you please (we are not going to use this)\n",
        "estimator = KerasRegressor(build_fn=BP_model, X=X_train, epochs=epochs, batch_size=batch_size, verbose=1)\n",
        "# This is where you load the actual saved model into a new variable.\n",
        "estimator.model = load_model('BP_saved_model.h5')    \n",
        "with open('history.pickle', 'rb') as f:\n",
        "    history = pickle.load(f)\n",
        "print(\"Loaded model from disk\")"
      ],
      "execution_count": null,
      "outputs": []
    },
    {
      "cell_type": "markdown",
      "metadata": {
        "id": "ws9-1GCyYNR3"
      },
      "source": [
        "-> Let's show the loss and validation loss dynamics."
      ]
    },
    {
      "cell_type": "code",
      "metadata": {
        "id": "ywxpgq5iYP0X"
      },
      "source": [
        "plt.figure()\n",
        "plt.plot(history['loss'], label='train')\n",
        "plt.plot(history['val_loss'], label='test')\n",
        "plt.ylabel('loss')\n",
        "plt.xlabel('epoch')\n",
        "#plt.plot(history.history['acc'], label='acc')\n",
        "#plt.plot(history.history['val_acc'], label='acc test')\n",
        "plt.legend()\n",
        "plt.show()"
      ],
      "execution_count": null,
      "outputs": []
    },
    {
      "cell_type": "markdown",
      "metadata": {
        "id": "4hoPWRWDYnAO"
      },
      "source": [
        "As we can see, a Neural Network is well-fitted and no overfitting is observed. Let's calculate a prediction of the training (res_train_ANN) an test (res_test_ANN) sets.\n",
        "\n",
        "-> Let's calculate a forecast and make an inverse normalization to real scale."
      ]
    },
    {
      "cell_type": "code",
      "metadata": {
        "id": "cV26ceu3YrUK"
      },
      "source": [
        "res_tr=estimator.predict(X_train)\n",
        "res_ts=estimator.predict(X_test)\n",
        "res_train_ANN=scaler_y.inverse_transform(res_tr.reshape(-1, 1)).flatten()\n",
        "res_test_ANN=scaler_y.inverse_transform(res_ts.reshape(-1, 1)).flatten()"
      ],
      "execution_count": null,
      "outputs": []
    },
    {
      "cell_type": "markdown",
      "metadata": {
        "id": "ecLK5QIKYw4_"
      },
      "source": [
        "Let's compare the accuracy of a Linear Regression and a Neural Network."
      ]
    },
    {
      "cell_type": "code",
      "metadata": {
        "id": "JwHjh5ckY07P"
      },
      "source": [
        "print(\"Correlation train\", np.corrcoef(res_train, res_train_ANN)[0,1])\n",
        "print(\"Correlation test\", np.corrcoef(res_test, res_test_ANN)[0,1])\n",
        "print('Mean Absolute Error:', metrics.mean_absolute_error(y_test, res_test_ANN))\n",
        "print('Mean Squared Error:', metrics.mean_squared_error(y_test, res_test_ANN))\n",
        "print('Root Mean Squared Error:', np.sqrt(metrics.mean_squared_error(y_test, res_test_ANN)))"
      ],
      "execution_count": null,
      "outputs": []
    },
    {
      "cell_type": "markdown",
      "metadata": {
        "id": "_64E63YbZlaz"
      },
      "source": [
        "We got slightly better results for a Neural Network than for a Linear Regression."
      ]
    },
    {
      "cell_type": "markdown",
      "metadata": {
        "id": "csFDJAFJZ6cM"
      },
      "source": [
        "Unlike standard feedforward neural networks, LSTM has feedback connections. It can process not only single data points, but also entire sequences of data (such as speech, video or time series).\n",
        "\n",
        "In case of time series, the neural network has one input and one output. However, there should be a vector of time series values for the previous time period on the input."
      ]
    },
    {
      "cell_type": "markdown",
      "metadata": {
        "id": "_3UUq9toaUkF"
      },
      "source": [
        "![LSTM.PNG](data:image/png;base64,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)"
      ]
    },
    {
      "cell_type": "markdown",
      "metadata": {
        "id": "llRPFZPwam8c"
      },
      "source": [
        "-> Let's Long Short-Term Memory Neural Network.\n",
        "To do this, we should transform input DataSets into 3D shape."
      ]
    },
    {
      "cell_type": "code",
      "metadata": {
        "id": "CaRV5R7za2z-"
      },
      "source": [
        "train_x_LSTM = X_train.reshape((X_train.shape[0], 1, 14))\n",
        "test_x_LSTM = X_test.reshape((X_test.shape[0], 1, 14))"
      ],
      "execution_count": null,
      "outputs": []
    },
    {
      "cell_type": "markdown",
      "metadata": {
        "id": "NS8jApL8a_QF"
      },
      "source": [
        "-> Let's create an LSTM Neural Network consisting of one LSTM layer and one BP layer like in the previous case. As you can see, in this case our NN will consist of 7 LSTM and 7 BP neurons only."
      ]
    },
    {
      "cell_type": "code",
      "metadata": {
        "id": "e37caUMKbG-1"
      },
      "source": [
        "from keras.layers import LSTM\n",
        "\n",
        "batch_size=int(y_train.shape[0]*.1)\n",
        "model = Sequential()\n",
        "model.add(LSTM(7, input_shape=(train_x_LSTM.shape[1], train_x_LSTM.shape[2])))\n",
        "model.add(Dropout(0.2))\n",
        "model.add(Dense(7, kernel_initializer='normal', activation='relu'))\n",
        "model.add(Dropout(0.2))\n",
        "model.add(Dense(y_train.shape[1])) #activation='sigmoid'\n",
        "model.compile(loss='mean_squared_error', optimizer='adam')\n",
        "#model.compile(loss='mae', optimizer='adam')\n"
      ],
      "execution_count": null,
      "outputs": []
    },
    {
      "cell_type": "markdown",
      "metadata": {
        "id": "HBx1bkF1bSW5"
      },
      "source": [
        "-> All subsequent steps of learning, storing, reading and predicting are similar to the ones we used with the previous neural network. We can see that only 400 epochs are enough for an LSTM."
      ]
    },
    {
      "cell_type": "code",
      "metadata": {
        "id": "8cySqRsTbZ3Z"
      },
      "source": [
        "fitting = True\n",
        "fitting_save = True\n",
        "epochs = 400\n",
        "\n",
        "if fitting:\n",
        "    history = model.fit(train_x_LSTM, y_train, epochs=epochs, batch_size=batch_size, validation_data=(test_x_LSTM, y_test), verbose=1, shuffle=False)    \n",
        "    if fitting_save:\n",
        "    # serialize model to JSON\n",
        "        model_json = model.to_json()\n",
        "        with open(\"LSTM_model.json\", \"w\") as json_file:\n",
        "            json_file.write(model_json)\n",
        "        # serialize weights to HDF5\n",
        "        model.save_weights(\"LSTM_model.h5\")\n",
        "        print(\"Saved model to disk\")\n",
        "        with open('history_LSTM.pickle', 'wb') as f:\n",
        "            pickle.dump(history.history, f)\n",
        "# load model  \n",
        "from keras.models import model_from_json\n",
        "json_file = open('LSTM_model.json', 'r')\n",
        "loaded_model_json = json_file.read()\n",
        "json_file.close()\n",
        "model = model_from_json(loaded_model_json)\n",
        "# load weights into new model\n",
        "model.load_weights(\"LSTM_model.h5\")        \n",
        "with open('history_LSTM.pickle', 'rb') as f:\n",
        "    history = pickle.load(f)\n",
        "print(\"Loaded model from disk\")"
      ],
      "execution_count": null,
      "outputs": []
    },
    {
      "cell_type": "markdown",
      "metadata": {
        "id": "2TJlSQCAboB3"
      },
      "source": [
        "-> Let's plot the dynamic of loss and val loss like in the previous case."
      ]
    },
    {
      "cell_type": "code",
      "metadata": {
        "id": "4wBVGzNfbrOm"
      },
      "source": [
        "plt.figure()\n",
        "plt.plot(history['loss'], label='train')\n",
        "plt.plot(history['val_loss'], label='test')\n",
        "plt.ylabel('loss')\n",
        "plt.xlabel('epoch')\n",
        "\n",
        "plt.legend()\n",
        "plt.show() "
      ],
      "execution_count": null,
      "outputs": []
    },
    {
      "cell_type": "markdown",
      "metadata": {
        "id": "r9lgmADGb3mH"
      },
      "source": [
        "-> Let's calculate our forecast."
      ]
    },
    {
      "cell_type": "code",
      "metadata": {
        "id": "EEeGWwK1b47C"
      },
      "source": [
        "res_tr_LSTM = model.predict(train_x_LSTM)\n",
        "res_ts_LSTM = model.predict(test_x_LSTM)\n",
        "res_train_LSTM=scaler_y.inverse_transform(res_tr_LSTM).flatten()\n",
        "res_test_LSTM=scaler_y.inverse_transform(res_ts_LSTM).flatten()"
      ],
      "execution_count": null,
      "outputs": []
    },
    {
      "cell_type": "markdown",
      "metadata": {
        "id": "5j3o5kapcA7z"
      },
      "source": [
        "-> Let's calculate accuracy"
      ]
    },
    {
      "cell_type": "code",
      "metadata": {
        "id": "XuTy95VPcE1e"
      },
      "source": [
        "print(\"Correlation train\", np.corrcoef(res_train, res_train_LSTM)[0,1])\n",
        "print(\"Correlation train\", np.corrcoef(res_test, res_test_LSTM)[0,1])\n",
        "print('Mean Absolute Error:', metrics.mean_absolute_error(y_test, res_test_LSTM))\n",
        "print('Mean Squared Error:', metrics.mean_squared_error(y_test, res_test_LSTM))\n",
        "print('Root Mean Squared Error:', np.sqrt(metrics.mean_squared_error(y_test, res_test_LSTM)))\n"
      ],
      "execution_count": null,
      "outputs": []
    },
    {
      "cell_type": "markdown",
      "metadata": {
        "id": "flw_9ynQclFX"
      },
      "source": [
        "-> As we can see, the forecast results of the test data set are much better than ones of the previous models. Let's visualize these 3 results:"
      ]
    },
    {
      "cell_type": "code",
      "metadata": {
        "id": "CAGLVLZXcpxG"
      },
      "source": [
        "res_pred_test_ln = pd.Series(y_pred_test_ln, name = 'Predicted test Linear Model')\n",
        "res_pred_test_ANN = pd.Series(res_test_ANN, name = 'Predicted test ANN')\n",
        "res_pred_test_LSTM = pd.Series(res_test_LSTM, name = 'Predicted test LSTM')\n",
        "\n",
        "df_2 = pd.DataFrame({'Actual test': res_test, 'Linear Model': res_pred_test_ln, 'ANN Model': res_pred_test_ANN,  'LSTM Model': res_pred_test_LSTM,})\n",
        "df_2.index = dataset.index[len(dataset)-len(res_test):]\n",
        "df_2.plot()\n",
        "plt.show()"
      ],
      "execution_count": null,
      "outputs": []
    },
    {
      "cell_type": "markdown",
      "metadata": {
        "id": "WDTKexAIdGVG"
      },
      "source": [
        "Conclusion \n",
        "As we can see, an LSTM model makes a perfect forecast. A Linear Regression is the fastest forecasting model.\n"
      ]
    },
    {
      "cell_type": "code",
      "metadata": {
        "id": "FMeXNORodTum"
      },
      "source": [
        ""
      ],
      "execution_count": null,
      "outputs": []
    }
  ]
}